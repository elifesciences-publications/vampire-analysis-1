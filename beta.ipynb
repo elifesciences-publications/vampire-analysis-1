{
 "cells": [
  {
   "cell_type": "code",
   "execution_count": null,
   "metadata": {},
   "outputs": [],
   "source": [
    "suppressMessages(library(cowplot))\n",
    "library(latex2exp)\n",
    "library(reshape2)\n",
    "theme_set(theme_minimal())\n",
    "\n",
    "source_colors = c(basic = \"#fc8d62\", count_match = \"#66c2a5\", OLGA.Q =\"#8da0cb\", data = \"#A3A3A3\", train = \"#444444\")"
   ]
  },
  {
   "cell_type": "code",
   "execution_count": null,
   "metadata": {},
   "outputs": [],
   "source": [
    "# Pick a directory here:\n",
    "dir = '_output_seshadri-2019-02-09'\n",
    "dir = '_output_deneuter-2019-02-07'\n",
    "dir = '_output_2019-03-07-robins-ratio-MS'\n",
    "\n",
    "data_name = gsub('_output_', '', dir)\n",
    "dir = paste0('input/', dir, '/')"
   ]
  },
  {
   "cell_type": "markdown",
   "metadata": {},
   "source": [
    "## Plotting likelihoods"
   ]
  },
  {
   "cell_type": "code",
   "execution_count": null,
   "metadata": {},
   "outputs": [],
   "source": [
    "cols = unlist(strsplit(\"train_data,beta,model,test_set,Pgen,Ppost,acidity,aliphatic_index,amino_acid,aromaticity,basicity,bulkiness,cdr3_length,charge,gravy,j_gene,log_Ppost,log_Pvae,polarity,q,v_gene\",','))\n",
    "accept = cols %in% c('beta', 'model', 'test_set', 'log_Pvae')\n",
    "colclasses = c(accept)\n",
    "colclasses[!accept] = 'NULL'\n",
    "colclasses[accept] = NA\n",
    "\n",
    "df=read.csv(bzfile(paste0(dir,'merged.agg.csv.bz2')), colClasses=colclasses, stringsAsFactors=FALSE)\n",
    "\n",
    "df$is_0.75 = df$beta==0.75\n",
    "df = df[df$model == 'basic',]"
   ]
  },
  {
   "cell_type": "code",
   "execution_count": null,
   "metadata": {},
   "outputs": [],
   "source": [
    "p = ggplot(df, aes(log_Pvae, color=beta, group=beta, linetype=is_0.75)) +\n",
    "    geom_freqpoly(aes(y=..density..), bins=40) + \n",
    "    #facet_grid(vars(model)) + \n",
    "    scale_colour_viridis_c(name = TeX(\"$\\\\beta$\")) +\n",
    "    scale_linetype_discrete(name = TeX(\"$\\\\beta$ = 0.75\")) +\n",
    "    xlab(TeX(\"$\\\\log(P_{VAE})$\"))\n",
    "broad = p + xlim(-40, -10)\n",
    "zoomed = p + xlim(-25, -15)\n",
    "\n",
    "plot_grid(broad, zoomed, labels = c(\"(a)\", \"(b)\"), nrow = 2, align = \"v\")\n",
    "ggsave(\"output/pvae_by_beta.pdf\")"
   ]
  },
  {
   "cell_type": "markdown",
   "metadata": {},
   "source": [
    "## Plotting a variety of betas"
   ]
  },
  {
   "cell_type": "code",
   "execution_count": null,
   "metadata": {},
   "outputs": [],
   "source": [
    "summarized_path = paste0(dir,'summarized.agg.csv')\n",
    "\n",
    "facet_labeller = function(s) {\n",
    "   s = sub(\"sumdiv_\",\"\",s)\n",
    "   s = gsub(\"_\",\" \",s)\n",
    "   s = sub(\"distance\",\"dist\",s)\n",
    "   s\n",
    "}\n",
    "\n",
    "df = read.csv(summarized_path, stringsAsFactors=FALSE)\n",
    "x_tick_labs = unlist(lapply(unique(df$beta), function(b) c(\"\", as.character(b), \"\")))\n",
    "df = df[df$model != 'train',]\n",
    "df[df$model=='olga', 'model'] = 'OLGA.Q'\n",
    "df$model_beta = paste(df$beta,df$model)\n",
    "id_vars = c('test_set', 'model', 'model_beta')\n",
    "df$model_beta = as.factor(df$model_beta)\n",
    "measure_vars = grep('sumdiv_', colnames(df), value=TRUE)\n",
    "df = df[c(id_vars, measure_vars)]\n",
    "p = ggplot(\n",
    "  melt(df, id_vars, measure_vars, variable.name='divergence_name', value.name='divergence'),\n",
    "  aes_string('model_beta', 'divergence', color='model')\n",
    ") + geom_boxplot() +\n",
    "  facet_wrap(vars(divergence_name), scales='free', labeller=as_labeller(facet_labeller)) +\n",
    "  theme(axis.text.x=element_text(angle = 90, hjust = 1, vjust = 0.5)) +\n",
    "  theme(legend.position=\"bottom\") +\n",
    "  scale_x_discrete(labels=x_tick_labs) +\n",
    "  scale_color_manual(values=source_colors) + \n",
    "  scale_y_log10() \n",
    "  # + ggtitle(data_name)\n",
    "ggsave(paste0('output/',data_name,'-sumdiv-beta.pdf'), width=8, height=8)\n",
    "p"
   ]
  },
  {
   "cell_type": "markdown",
   "metadata": {},
   "source": [
    "## Plotting one beta in detail"
   ]
  },
  {
   "cell_type": "code",
   "execution_count": null,
   "metadata": {},
   "outputs": [],
   "source": [
    "summarized_path = paste0(dir,'summarized.agg.csv')\n",
    "df = read.csv(summarized_path, stringsAsFactors=FALSE)\n",
    "\n",
    "facet_labeller = function(s) {\n",
    "    s = sub(\"sumdiv_\",\"\",s)\n",
    "    s = gsub(\"_\",\" \",s)\n",
    "    s = sub(\"distance\",\"dist\",s)\n",
    "    s\n",
    "}\n",
    "\n",
    "compare_model_divergences = function(df, beta) {\n",
    "    df$synthetic = TRUE\n",
    "    df[df$model == 'train', ]$synthetic = FALSE\n",
    "    df = df[df$beta == beta,]\n",
    "    df[df$model == 'olga', 'model'] = 'OLGA.Q'\n",
    "    id_vars = c('test_set', 'model', 'synthetic')\n",
    "    measure_vars = grep('sumdiv_', colnames(df), value=TRUE)\n",
    "    df = df[c(id_vars, measure_vars)]\n",
    "    theme_set(theme_minimal())\n",
    "    ggplot(\n",
    "        melt(df, id_vars, measure_vars, variable.name='divergence_name', value.name='divergence'),\n",
    "        aes_string('model', 'divergence', color='model', shape='synthetic')\n",
    "    ) + geom_point(position = position_jitterdodge(dodge.width=0.5, jitter.width=0.5)) +\n",
    "        facet_wrap(vars(divergence_name), nrow=3, scales='free', labeller=as_labeller(facet_labeller)) +\n",
    "        scale_y_log10() +\n",
    "        scale_shape_manual(values=c(3, 16)) +\n",
    "        theme(axis.text.x=element_blank(), axis.title.x = element_blank()) +\n",
    "        scale_color_manual(values=source_colors) + \n",
    "        labs(color='data source') +\n",
    "        ggtitle(data_name)\n",
    "}\n",
    "\n",
    "compare_model_divergences(df, 0.75)\n",
    "ggsave(paste0('output/',data_name,'-sumdiv.pdf'), width=8, height=4.5)"
   ]
  },
  {
   "cell_type": "code",
   "execution_count": null,
   "metadata": {},
   "outputs": [],
   "source": []
  }
 ],
 "metadata": {
  "kernelspec": {
   "display_name": "R",
   "language": "R",
   "name": "ir"
  },
  "language_info": {
   "codemirror_mode": "r",
   "file_extension": ".r",
   "mimetype": "text/x-r-source",
   "name": "R",
   "pygments_lexer": "r",
   "version": "3.5.1"
  }
 },
 "nbformat": 4,
 "nbformat_minor": 2
}
