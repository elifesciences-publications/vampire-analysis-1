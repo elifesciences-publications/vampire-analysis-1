{
 "cells": [
  {
   "cell_type": "code",
   "execution_count": 1,
   "metadata": {},
   "outputs": [],
   "source": [
    "import glob\n",
    "import os\n",
    "import pandas as pd"
   ]
  },
  {
   "cell_type": "code",
   "execution_count": 2,
   "metadata": {},
   "outputs": [],
   "source": [
    "def read_overview(path):\n",
    "    df = pd.read_csv(path, sep='\\t', na_values='na')\n",
    "    fname = os.path.basename(path)\n",
    "    df['fname'] = fname\n",
    "    # This is the directory name that contains the samples.\n",
    "    df['dir'] = os.path.splitext(fname)[0]\n",
    "    return df\n",
    "\n",
    "dfs = [read_overview(os.path.join('adaptive_overview/naive', fname)) for fname in \n",
    "       ['adaptive-peakman-t1d-naive.tsv','adaptive-lindau-cmv.tsv','adaptive-robins-ratio.tsv']]"
   ]
  },
  {
   "cell_type": "code",
   "execution_count": 3,
   "metadata": {},
   "outputs": [
    {
     "data": {
      "text/plain": [
       "Index(['dir', 'fname', 'fraction_productive', 'locus',\n",
       "       'max_productive_frequency', 'productive_clonality',\n",
       "       'productive_rearrangements', 'productive_templates', 'sample_name',\n",
       "       'sample_tags', 'sku', 'test_name', 'total_productive_reads',\n",
       "       'total_reads', 'total_rearrangements', 'total_templates'],\n",
       "      dtype='object')"
      ]
     },
     "execution_count": 3,
     "metadata": {},
     "output_type": "execute_result"
    }
   ],
   "source": [
    "df = pd.concat(dfs, ignore_index=True, sort=True)\n",
    "df.columns"
   ]
  },
  {
   "cell_type": "code",
   "execution_count": 4,
   "metadata": {},
   "outputs": [],
   "source": [
    "# We only want Naive samples.\n",
    "df = df.loc[df['sample_tags'].str.contains('Naive'),:]"
   ]
  },
  {
   "cell_type": "code",
   "execution_count": 5,
   "metadata": {},
   "outputs": [
    {
     "data": {
      "text/html": [
       "<div>\n",
       "<style scoped>\n",
       "    .dataframe tbody tr th:only-of-type {\n",
       "        vertical-align: middle;\n",
       "    }\n",
       "\n",
       "    .dataframe tbody tr th {\n",
       "        vertical-align: top;\n",
       "    }\n",
       "\n",
       "    .dataframe thead th {\n",
       "        text-align: right;\n",
       "    }\n",
       "</style>\n",
       "<table border=\"1\" class=\"dataframe\">\n",
       "  <thead>\n",
       "    <tr style=\"text-align: right;\">\n",
       "      <th></th>\n",
       "      <th>productive_rearrangements</th>\n",
       "      <th>fname</th>\n",
       "      <th>sample_name</th>\n",
       "    </tr>\n",
       "  </thead>\n",
       "  <tbody>\n",
       "    <tr>\n",
       "      <th>157</th>\n",
       "      <td>971</td>\n",
       "      <td>adaptive-robins-ratio.tsv</td>\n",
       "      <td>Healthy_Subject_16_CD8_Naive</td>\n",
       "    </tr>\n",
       "    <tr>\n",
       "      <th>117</th>\n",
       "      <td>30201</td>\n",
       "      <td>adaptive-robins-ratio.tsv</td>\n",
       "      <td>Healthy_Subject_3_CD8_Naive</td>\n",
       "    </tr>\n",
       "    <tr>\n",
       "      <th>185</th>\n",
       "      <td>34293</td>\n",
       "      <td>adaptive-robins-ratio.tsv</td>\n",
       "      <td>Healthy_Subject_9_CD8_Naive</td>\n",
       "    </tr>\n",
       "    <tr>\n",
       "      <th>132</th>\n",
       "      <td>35997</td>\n",
       "      <td>adaptive-robins-ratio.tsv</td>\n",
       "      <td>Healthy_Subject_8_CD8_Naive</td>\n",
       "    </tr>\n",
       "    <tr>\n",
       "      <th>140</th>\n",
       "      <td>38981</td>\n",
       "      <td>adaptive-robins-ratio.tsv</td>\n",
       "      <td>Healthy_Subject_6_CD8_Naive</td>\n",
       "    </tr>\n",
       "  </tbody>\n",
       "</table>\n",
       "</div>"
      ],
      "text/plain": [
       "     productive_rearrangements                      fname  \\\n",
       "157                        971  adaptive-robins-ratio.tsv   \n",
       "117                      30201  adaptive-robins-ratio.tsv   \n",
       "185                      34293  adaptive-robins-ratio.tsv   \n",
       "132                      35997  adaptive-robins-ratio.tsv   \n",
       "140                      38981  adaptive-robins-ratio.tsv   \n",
       "\n",
       "                      sample_name  \n",
       "157  Healthy_Subject_16_CD8_Naive  \n",
       "117   Healthy_Subject_3_CD8_Naive  \n",
       "185   Healthy_Subject_9_CD8_Naive  \n",
       "132   Healthy_Subject_8_CD8_Naive  \n",
       "140   Healthy_Subject_6_CD8_Naive  "
      ]
     },
     "execution_count": 5,
     "metadata": {},
     "output_type": "execute_result"
    }
   ],
   "source": [
    "df.sort_values('productive_rearrangements')[['productive_rearrangements', 'fname', 'sample_name']].head()"
   ]
  },
  {
   "cell_type": "code",
   "execution_count": 6,
   "metadata": {},
   "outputs": [],
   "source": [
    "# Subject 16 gets thrown out.\n",
    "df = df.loc[~df['sample_name'].str.contains('Subject_16'),]"
   ]
  },
  {
   "cell_type": "code",
   "execution_count": 7,
   "metadata": {},
   "outputs": [],
   "source": [
    "# Drop the diabetic samples, which Peakman says are strange.\n",
    "peakman_t1d = (df['fname'] == 'adaptive-peakman-t1d-naive.tsv') & (df['sample_tags'].str.contains('Diabetes'))\n",
    "df = df.loc[~peakman_t1d,:]"
   ]
  },
  {
   "cell_type": "code",
   "execution_count": 8,
   "metadata": {},
   "outputs": [],
   "source": [
    "df['marker'] = df['sample_tags'].str.extract('(CD[48]\\+)')"
   ]
  },
  {
   "cell_type": "code",
   "execution_count": 9,
   "metadata": {},
   "outputs": [
    {
     "data": {
      "text/plain": [
       "CD4+    30\n",
       "CD8+    24\n",
       "Name: marker, dtype: int64"
      ]
     },
     "execution_count": 9,
     "metadata": {},
     "output_type": "execute_result"
    }
   ],
   "source": [
    "df['marker'].value_counts()"
   ]
  },
  {
   "cell_type": "code",
   "execution_count": 10,
   "metadata": {},
   "outputs": [
    {
     "data": {
      "text/plain": [
       "{'Healthy_Subject_10_CD8_Naive',\n",
       " 'Healthy_Subject_11_CD8_Naive',\n",
       " 'Healthy_Subject_12_CD4_Naive',\n",
       " 'Healthy_Subject_13_CD4_Naive',\n",
       " 'Healthy_Subject_14_CD8_Naive',\n",
       " 'Healthy_Subject_15_CD8_Naive',\n",
       " 'Healthy_Subject_17_CD8_Naive',\n",
       " 'Healthy_Subject_1_CD8_Naive',\n",
       " 'Healthy_Subject_2_CD8_Naive',\n",
       " 'Healthy_Subject_3_CD8_Naive',\n",
       " 'Healthy_Subject_4_CD4_Naive',\n",
       " 'Healthy_Subject_5_CD8_Naive',\n",
       " 'Healthy_Subject_6_CD8_Naive',\n",
       " 'Healthy_Subject_7_CD8_Naive',\n",
       " 'Healthy_Subject_8_CD4_Naive',\n",
       " 'Healthy_Subject_9_CD4_Naive'}"
      ]
     },
     "execution_count": 10,
     "metadata": {},
     "output_type": "execute_result"
    }
   ],
   "source": [
    "# Next we're going to even out this imbalance by picking cd4 vs cd8 from the robins dataset.\n",
    "\n",
    "sample_numbers = set(\n",
    "    df.loc[df['fname'] == 'adaptive-robins-ratio.tsv', 'sample_name'].str.extract('Subject_(\\d*)_')[0])\n",
    "marker_df = pd.DataFrame({'marker': 8}, index=sample_numbers).sample(frac=1)\n",
    "marker_df.loc[marker_df.index[:5], 'marker'] = 4\n",
    "robins_chosen = set([f'Healthy_Subject_{idx}_CD{marker}_Naive' for idx, marker in marker_df.itertuples()])\n",
    "robins_chosen"
   ]
  },
  {
   "cell_type": "code",
   "execution_count": 11,
   "metadata": {},
   "outputs": [
    {
     "data": {
      "text/plain": [
       "CD8+    19\n",
       "CD4+    19\n",
       "Name: marker, dtype: int64"
      ]
     },
     "execution_count": 11,
     "metadata": {},
     "output_type": "execute_result"
    }
   ],
   "source": [
    "df['keep'] = True\n",
    "df.loc[df['fname'] == 'adaptive-robins-ratio.tsv','keep'] = False\n",
    "df.loc[[sample in robins_chosen for sample in df['sample_name']], 'keep'] = True\n",
    "df = df.loc[df['keep'], :]\n",
    "\n",
    "df['marker'].value_counts()"
   ]
  },
  {
   "cell_type": "code",
   "execution_count": 12,
   "metadata": {},
   "outputs": [
    {
     "data": {
      "text/plain": [
       "'python util.py split-repertoires --out-prefix /home/matsen/re/vampire/vampire/_ignore/naive-2019-02-12 --limit-each 10000 /fh/fast/matsen_e/data/adaptive-peakman-t1d-naive/HD11_TN.tsv /fh/fast/matsen_e/data/adaptive-peakman-t1d-naive/HD9_TN.tsv /fh/fast/matsen_e/data/adaptive-peakman-t1d-naive/HD13_TN.tsv /fh/fast/matsen_e/data/adaptive-peakman-t1d-naive/HD14_TN.tsv /fh/fast/matsen_e/data/adaptive-peakman-t1d-naive/HD12_TN.tsv /fh/fast/matsen_e/data/adaptive-peakman-t1d-naive/HD10_TN.tsv /fh/fast/matsen_e/data/adaptive-peakman-t1d-naive/HD4_TN.tsv /fh/fast/matsen_e/data/adaptive-peakman-t1d-naive/HD8_TN.tsv /fh/fast/matsen_e/data/adaptive-peakman-t1d-naive/HD7_TN.tsv /fh/fast/matsen_e/data/adaptive-peakman-t1d-naive/HD6_TN.tsv /fh/fast/matsen_e/data/adaptive-peakman-t1d-naive/HD5_TN.tsv /fh/fast/matsen_e/data/adaptive-peakman-t1d-naive/HD3_TN.tsv /fh/fast/matsen_e/data/adaptive-peakman-t1d-naive/HD2_TN.tsv /fh/fast/matsen_e/data/adaptive-peakman-t1d-naive/HD1_TN.tsv /fh/fast/matsen_e/data/adaptive-lindau-cmv/05_CD8+naive.tsv /fh/fast/matsen_e/data/adaptive-lindau-cmv/04_CD8+naive.tsv /fh/fast/matsen_e/data/adaptive-lindau-cmv/01_CD8+naive.tsv /fh/fast/matsen_e/data/adaptive-lindau-cmv/02_CD8+naive.tsv /fh/fast/matsen_e/data/adaptive-lindau-cmv/08_CD8+naive.tsv /fh/fast/matsen_e/data/adaptive-lindau-cmv/07_CD8+naive.tsv /fh/fast/matsen_e/data/adaptive-lindau-cmv/03_CD8+naive.tsv /fh/fast/matsen_e/data/adaptive-lindau-cmv/06_CD8+naive.tsv /fh/fast/matsen_e/data/adaptive-robins-ratio/Healthy_Subject_4_CD4_Naive.tsv /fh/fast/matsen_e/data/adaptive-robins-ratio/Healthy_Subject_3_CD8_Naive.tsv /fh/fast/matsen_e/data/adaptive-robins-ratio/Healthy_Subject_8_CD4_Naive.tsv /fh/fast/matsen_e/data/adaptive-robins-ratio/Healthy_Subject_2_CD8_Naive.tsv /fh/fast/matsen_e/data/adaptive-robins-ratio/Healthy_Subject_1_CD8_Naive.tsv /fh/fast/matsen_e/data/adaptive-robins-ratio/Healthy_Subject_7_CD8_Naive.tsv /fh/fast/matsen_e/data/adaptive-robins-ratio/Healthy_Subject_6_CD8_Naive.tsv /fh/fast/matsen_e/data/adaptive-robins-ratio/Healthy_Subject_5_CD8_Naive.tsv /fh/fast/matsen_e/data/adaptive-robins-ratio/Healthy_Subject_17_CD8_Naive.tsv /fh/fast/matsen_e/data/adaptive-robins-ratio/Healthy_Subject_15_CD8_Naive.tsv /fh/fast/matsen_e/data/adaptive-robins-ratio/Healthy_Subject_14_CD8_Naive.tsv /fh/fast/matsen_e/data/adaptive-robins-ratio/Healthy_Subject_13_CD4_Naive.tsv /fh/fast/matsen_e/data/adaptive-robins-ratio/Healthy_Subject_12_CD4_Naive.tsv /fh/fast/matsen_e/data/adaptive-robins-ratio/Healthy_Subject_11_CD8_Naive.tsv /fh/fast/matsen_e/data/adaptive-robins-ratio/Healthy_Subject_10_CD8_Naive.tsv /fh/fast/matsen_e/data/adaptive-robins-ratio/Healthy_Subject_9_CD4_Naive.tsv'"
      ]
     },
     "execution_count": 12,
     "metadata": {},
     "output_type": "execute_result"
    }
   ],
   "source": [
    "call = 'python util.py split-repertoires --out-prefix /home/matsen/re/vampire/vampire/_ignore/naive-2019-02-12 --limit-each 10000 '\n",
    "call += ' '.join([f\"/fh/fast/matsen_e/data/{row.dir}/{row.sample_name}.tsv\" for row in df.itertuples()])\n",
    "call"
   ]
  },
  {
   "cell_type": "code",
   "execution_count": null,
   "metadata": {},
   "outputs": [],
   "source": []
  }
 ],
 "metadata": {
  "kernelspec": {
   "display_name": "Python 3",
   "language": "python",
   "name": "python3"
  },
  "language_info": {
   "codemirror_mode": {
    "name": "ipython",
    "version": 3
   },
   "file_extension": ".py",
   "mimetype": "text/x-python",
   "name": "python",
   "nbconvert_exporter": "python",
   "pygments_lexer": "ipython3",
   "version": "3.6.8"
  }
 },
 "nbformat": 4,
 "nbformat_minor": 2
}
