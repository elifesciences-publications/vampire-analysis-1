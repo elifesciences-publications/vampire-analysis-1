{
 "cells": [
  {
   "cell_type": "code",
   "execution_count": null,
   "metadata": {},
   "outputs": [],
   "source": [
    "library(ggplot2)\n",
    "library(reshape2)\n",
    "library(dplyr)\n",
    "library(nlme)\n",
    "library(tidyr)\n",
    "library(latex2exp)\n",
    "\n",
    "theme_set(theme_minimal(base_size = 13))\n",
    "phi = 2 / (1 + sqrt(5))"
   ]
  },
  {
   "cell_type": "code",
   "execution_count": null,
   "metadata": {},
   "outputs": [],
   "source": [
    "path = 'input/_output_pipe_freq/merged.agg.csv.bz2'\n",
    "#path = 'input/_output_pipe_freq_1M/merged.agg.csv.bz2'\n",
    "df = read.csv(bzfile(path), stringsAsFactors=FALSE)\n",
    "df$log_frequency = log(df$frequency)\n",
    "df$n_subjects = gsub('count_in_', '', df$column)\n",
    "df$n_subjects = as.integer(gsub('count', '666', df$n_subjects))\n",
    "df$column = NULL"
   ]
  },
  {
   "cell_type": "markdown",
   "metadata": {},
   "source": [
    "_Make choice here!_"
   ]
  },
  {
   "cell_type": "code",
   "execution_count": null,
   "metadata": {},
   "outputs": [],
   "source": [
    "# Which VAE?\n",
    "df = df[df$model == 'basic',]\n",
    "#df = df[df$model == 'count_match',]"
   ]
  },
  {
   "cell_type": "markdown",
   "metadata": {},
   "source": [
    "Here we add \"pseudocounts\" of half the minimum nonzero value so that R doesn't choke on Pgen/Ppost calculation when they are zero."
   ]
  },
  {
   "cell_type": "code",
   "execution_count": null,
   "metadata": {},
   "outputs": [],
   "source": [
    "df[is.na(df$Pgen),'Pgen'] = min(df$Pgen, na.rm = TRUE)/2\n",
    "df[is.na(df$Ppost),'Ppost'] = min(df$Ppost, na.rm = TRUE)/2"
   ]
  },
  {
   "cell_type": "code",
   "execution_count": null,
   "metadata": {},
   "outputs": [],
   "source": [
    "df$Pvae = exp(df$log_Pvae)\n",
    "df$log_Pgen = log(df$Pgen)\n",
    "df$log_Ppost = log(df$Ppost)\n",
    "\n",
    "df = df %>% group_by(n_subjects, split) %>% \n",
    "    mutate(normed_Pgen = Pgen/sum(Pgen, na.rm = TRUE)) %>% \n",
    "    mutate(normed_Ppost = Ppost/sum(Ppost, na.rm = TRUE)) %>%\n",
    "    mutate(normed_Pvae = Pvae/sum(Pvae, na.rm = TRUE))\n",
    "\n",
    "df$log_normed_Pgen = log(df$normed_Pgen)\n",
    "df$log_normed_Ppost = log(df$normed_Ppost)\n",
    "df$log_normed_Pvae = log(df$normed_Pvae)"
   ]
  },
  {
   "cell_type": "code",
   "execution_count": null,
   "metadata": {},
   "outputs": [],
   "source": [
    "selected_n_subjects = c(16, 64, 256, 666)\n",
    "id_vars = c('n_subjects', 'split', 'log_frequency')\n",
    "measure_vars = c('log_normed_Ppost', 'log_normed_Pvae')\n",
    "molten = melt(df[df$n_subjects %in% selected_n_subjects,], id_vars, measure_vars, \n",
    "              variable.name='probability_name', value.name='log_probability')\n",
    "molten = molten[sample(nrow(molten)),]\n",
    "molten$split = factor(molten$split, levels=c('train', 'test'))\n",
    "molten$n_subjects = factor(\n",
    "    paste(molten$n_subjects, \"subjects\"),\n",
    "    levels=paste(selected_n_subjects, \"subjects\"))\n",
    "\n",
    "p = ggplot(molten, aes(log_frequency, log_probability, color=probability_name)) + \n",
    "    facet_grid(rows = vars(split), cols = vars(n_subjects), scales='free') + \n",
    "    geom_point(alpha=0.015) + \n",
    "    theme(aspect.ratio = 1, legend.position='bottom') + \n",
    "    coord_cartesian(ylim=c(-25,0)) + \n",
    "    guides(colour = guide_legend(override.aes = list(alpha = 1))) +\n",
    "    scale_color_manual(name=\"probability estimator\",\n",
    "                         breaks=c('log_normed_Ppost', 'log_normed_Pvae'),\n",
    "                         labels=c(\"OLGA.Q\", \"VAE\"),\n",
    "                         values=c(log_normed_Ppost = '#0000ff', log_normed_Pvae = '#ff0000')) +\n",
    "                         labs(x = \"log frequency\", y = \"log normalized probability\")\n",
    "p\n",
    "ggsave(paste0('output/',paste(measure_vars, collapse = '_vs_'),'.png'), width=6, height=4)"
   ]
  },
  {
   "cell_type": "code",
   "execution_count": null,
   "metadata": {},
   "outputs": [],
   "source": [
    "likes = df %>% group_by(n_subjects, split) %>% \n",
    "    summarise(\n",
    "        like_Pgen = dmultinom(count, prob=normed_Pgen, log=TRUE),\n",
    "        like_Ppost = dmultinom(count, prob=normed_Ppost, log=TRUE),\n",
    "        like_Pvae = dmultinom(count, prob=normed_Pvae, log=TRUE),\n",
    "    )\n",
    "likes"
   ]
  },
  {
   "cell_type": "code",
   "execution_count": null,
   "metadata": {},
   "outputs": [],
   "source": [
    "molten_likes = melt(likes, c('n_subjects', 'split'), value.name = 'likelihood')\n",
    "molten_likes$group = paste(molten_likes$variable, molten_likes$split)\n",
    "\n",
    "ggplot(molten_likes, aes(n_subjects, likelihood, color=variable, group=group, linetype=split)) + \n",
    "    geom_line() +\n",
    "    scale_x_log10() +\n",
    "    theme(aspect.ratio = phi) # golden ratio landscape\n",
    "\n",
    "ggsave('output/multinomial_likelihoods.png', width=5, height=5*phi)"
   ]
  },
  {
   "cell_type": "code",
   "execution_count": null,
   "metadata": {},
   "outputs": [],
   "source": [
    "# This is a little tedious: we apparently need to have a single grouping variable to feed into lmList, \n",
    "# then we need to unpack it later.\n",
    "\n",
    "df$group = as.factor(paste(df$split, df$n_subjects))\n",
    "s_Pvae = summary(lmList(log_Pvae ~ log_frequency | group, data=df[,c('log_Pvae', 'log_frequency', 'group')]))\n",
    "s_Ppost = summary(lmList(log_Ppost ~ log_frequency | group, data=df[,c('log_Ppost', 'log_frequency', 'group')]))\n",
    "s_Pgen = summary(lmList(log_Pgen ~ log_frequency | group, data=df[,c('log_Pgen', 'log_frequency', 'group')]))\n",
    "R2 = data.frame(\n",
    "    row.names = rownames(s_Pvae$df), \n",
    "    R2_Pgen = s_Pgen$r.squared,\n",
    "    R2_Ppost = s_Ppost$r.squared,\n",
    "    R2_Pvae = s_Pvae$r.squared)\n",
    "\n",
    "R2$names = rownames(R2)\n",
    "R2 = separate(R2, names, c('split', 'n_subjects'))\n",
    "R2$n_subjects = as.integer(R2$n_subjects)\n",
    "rownames(R2) = NULL\n",
    "R2[order(R2$n_subjects),]"
   ]
  },
  {
   "cell_type": "code",
   "execution_count": null,
   "metadata": {},
   "outputs": [],
   "source": [
    "molten_R2 = melt(R2, c('n_subjects', 'split'), value.name = 'R2')\n",
    "molten_R2$group = paste(molten_R2$variable, molten_R2$split)\n",
    "molten_R2 = molten_R2[molten_R2$variable %in% c('R2_Ppost', 'R2_Pvae'),]\n",
    "\n",
    "ggplot(molten_R2, aes(n_subjects, R2, color=variable, group=group, linetype=split)) + \n",
    "    geom_line() +\n",
    "    scale_x_log10() +\n",
    "    theme(aspect.ratio = phi) +\n",
    "    xlab(\"number of subjects\") + \n",
    "    scale_color_manual(name=\"estimator\",\n",
    "                         breaks=c('R2_Pvae','R2_Ppost'),\n",
    "                         labels=c(\"VAE\",\"OLGA.Q\"),\n",
    "                         values=c(R2_Ppost = '#8da0cb', R2_Pvae = '#fc8d62')) +\n",
    "    ylab(TeX(\"R^2\"))\n",
    "\n",
    "ggsave('output/R2.svg', width=5, height=5*phi)"
   ]
  }
 ],
 "metadata": {
  "kernelspec": {
   "display_name": "R",
   "language": "R",
   "name": "ir"
  },
  "language_info": {
   "codemirror_mode": "r",
   "file_extension": ".r",
   "mimetype": "text/x-r-source",
   "name": "R",
   "pygments_lexer": "r",
   "version": "3.5.1"
  }
 },
 "nbformat": 4,
 "nbformat_minor": 2
}
