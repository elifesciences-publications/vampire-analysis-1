{
 "cells": [
  {
   "cell_type": "code",
   "execution_count": null,
   "metadata": {},
   "outputs": [],
   "source": [
    "library(ggplot2)\n",
    "library(reshape2)\n",
    "library(dplyr)\n",
    "\n",
    "theme_set(theme_minimal())"
   ]
  },
  {
   "cell_type": "code",
   "execution_count": null,
   "metadata": {},
   "outputs": [],
   "source": [
    "read_freqs_probs = function(prefix) {\n",
    "    input_path = paste0(prefix,'.csv')\n",
    "    pvae_path = paste0(prefix,'.pvae.csv')\n",
    "    df = read.csv(input_path)\n",
    "    df$log_Pvae = read.csv(pvae_path)$log_p_x\n",
    "    df$log_frequency = log(df$frequency)\n",
    "    df$prefix = basename(prefix)\n",
    "    df\n",
    "}\n",
    "\n",
    "df = rbind(\n",
    "        read_freqs_probs('output/all-subjects.test.10K'),\n",
    "        read_freqs_probs('output/all-subjects.train.10K'))\n",
    "\n",
    "ggplot(df, aes(log_frequency, log_Pvae)) + facet_grid(cols=vars(prefix), scales='free') + geom_point(alpha=0.05) + \n",
    "     coord_cartesian(ylim=c(-30,-10)) + theme(aspect.ratio = 1)"
   ]
  },
  {
   "cell_type": "code",
   "execution_count": null,
   "metadata": {},
   "outputs": [],
   "source": [
    "ggplot(df, aes(log_frequency, log_Pvae, color=prefix)) + geom_point(alpha=0.08) + \n",
    "    coord_cartesian(xlim = c(-16, -9), ylim=c(-25,-10)) + theme(aspect.ratio = 1)"
   ]
  },
  {
   "cell_type": "code",
   "execution_count": null,
   "metadata": {},
   "outputs": [],
   "source": [
    "df = read.csv(bzfile('output/merged.agg.csv.bz2'), stringsAsFactors=FALSE)\n",
    "df$log_frequency = log(df$frequency)\n",
    "df$log_Pgen = log(df$Pgen)\n",
    "df$column = factor(df$column, levels=c('count_in_5','count_in_10','count_in_100','count'))"
   ]
  },
  {
   "cell_type": "code",
   "execution_count": null,
   "metadata": {},
   "outputs": [],
   "source": [
    "df$Pvae = exp(df$log_Pvae)"
   ]
  },
  {
   "cell_type": "markdown",
   "metadata": {},
   "source": [
    "Here we add \"pseudocounts\" so that R doesn't choke on Pgen/Ppost calculation."
   ]
  },
  {
   "cell_type": "code",
   "execution_count": null,
   "metadata": {},
   "outputs": [],
   "source": [
    "df[is.na(df$Pgen),'Pgen'] = min(df$Pgen, na.rm = TRUE)/2\n",
    "df[is.na(df$Ppost),'Ppost'] = min(df$Ppost, na.rm = TRUE)/2\n",
    "df$log_Pgen = log(df$Pgen)\n",
    "df$log_Ppost = log(df$Ppost)"
   ]
  },
  {
   "cell_type": "code",
   "execution_count": null,
   "metadata": {},
   "outputs": [],
   "source": [
    "id_vars = c('column', 'split', 'log_frequency')\n",
    "measure_vars = c('log_Pgen', 'log_Pvae')\n",
    "measure_vars = c('log_Ppost', 'log_Pvae')\n",
    "molten = melt(df, id_vars, measure_vars, \n",
    "              variable.name='probability_name', value.name='log_probability')\n",
    "molten = molten[sample(nrow(molten)),]\n",
    "\n",
    "ggplot(molten, aes(log_frequency, log_probability, color=probability_name)) + \n",
    "    facet_grid(rows = vars(column), cols=vars(split), scales='free') + \n",
    "    geom_point(alpha=0.025) + \n",
    "    theme(aspect.ratio = 1) + \n",
    "    coord_cartesian(ylim=c(-25,0))\n",
    "ggsave(paste0(paste(measure_vars, collapse = '_vs_'),'.png'), width=8, height=8)"
   ]
  },
  {
   "cell_type": "code",
   "execution_count": null,
   "metadata": {},
   "outputs": [],
   "source": [
    "df = df %>% group_by(column, split) %>% \n",
    "    mutate(normed_Pgen = Pgen/sum(Pgen, na.rm = TRUE)) %>% \n",
    "    mutate(normed_Ppost = Ppost/sum(Ppost, na.rm = TRUE)) %>%\n",
    "    mutate(normed_Pvae = Pvae/sum(Pvae, na.rm = TRUE))\n",
    "df$log_normed_Pgen = log(df$normed_Pgen)\n",
    "df$log_normed_Ppost = log(df$normed_Ppost)\n",
    "df$log_normed_Pvae = log(df$normed_Pvae)"
   ]
  },
  {
   "cell_type": "code",
   "execution_count": null,
   "metadata": {},
   "outputs": [],
   "source": [
    "id_vars = c('column', 'split', 'log_frequency')\n",
    "measure_vars = c('log_normed_Pgen', 'log_normed_Pvae')\n",
    "measure_vars = c('log_normed_Ppost', 'log_normed_Pvae')\n",
    "molten = melt(df, id_vars, measure_vars, \n",
    "              variable.name='probability_name', value.name='log_probability')\n",
    "molten = molten[sample(nrow(molten)),]\n",
    "\n",
    "ggplot(molten, aes(log_frequency, log_probability, color=probability_name)) + \n",
    "    facet_grid(rows = vars(column), cols=vars(split), scales='free') + \n",
    "    geom_point(alpha=0.025) + \n",
    "    theme(aspect.ratio = 1) + \n",
    "    coord_cartesian(ylim=c(-25,0))\n",
    "ggsave(paste0(paste(measure_vars, collapse = '_vs_'),'.png'), width=8, height=8)"
   ]
  },
  {
   "cell_type": "markdown",
   "metadata": {},
   "source": [
    "We should really just add the actual count, but here we fake the counts via frequency."
   ]
  },
  {
   "cell_type": "code",
   "execution_count": null,
   "metadata": {},
   "outputs": [],
   "source": [
    "df$count = floor(5*df$frequency/min(df$frequency))"
   ]
  },
  {
   "cell_type": "code",
   "execution_count": null,
   "metadata": {},
   "outputs": [],
   "source": [
    "df %>% group_by(column, split) %>% \n",
    "    summarise(\n",
    "        like_Pgen = dmultinom(count, prob=normed_Pgen, log=TRUE),\n",
    "        like_Ppost = dmultinom(count, prob=normed_Ppost, log=TRUE),\n",
    "        like_Pvae = dmultinom(count, prob=normed_Pvae, log=TRUE),\n",
    "    )"
   ]
  },
  {
   "cell_type": "code",
   "execution_count": null,
   "metadata": {},
   "outputs": [],
   "source": []
  }
 ],
 "metadata": {
  "kernelspec": {
   "display_name": "R",
   "language": "R",
   "name": "ir"
  },
  "language_info": {
   "codemirror_mode": "r",
   "file_extension": ".r",
   "mimetype": "text/x-r-source",
   "name": "R",
   "pygments_lexer": "r",
   "version": "3.5.1"
  }
 },
 "nbformat": 4,
 "nbformat_minor": 2
}
