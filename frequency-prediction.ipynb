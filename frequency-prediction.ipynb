{
 "cells": [
  {
   "cell_type": "code",
   "execution_count": null,
   "metadata": {},
   "outputs": [],
   "source": [
    "library(ggplot2)\n",
    "\n",
    "theme_set(theme_minimal())\n",
    "\n",
    "read_freqs_probs = function(prefix) {\n",
    "    input_path = paste0(prefix,'.csv')\n",
    "    pvae_path = paste0(prefix,'.pvae.csv')\n",
    "    df = read.csv(input_path)\n",
    "    df$log_Pvae = read.csv(pvae_path)$log_p_x\n",
    "    df$log_frequency = log(df$frequency)\n",
    "    df$prefix = basename(prefix)\n",
    "    df\n",
    "}\n",
    "\n",
    "df = rbind(\n",
    "        read_freqs_probs('output/all-subjects.test.10K'),\n",
    "        read_freqs_probs('output/all-subjects.train.10K'))\n",
    "\n",
    "ggplot(df, aes(log_frequency, log_Pvae)) + facet_grid(rows=vars(prefix), scales='free') + geom_point(alpha=0.2) + \n",
    "    coord_cartesian(xlim = c(-16, -9), ylim=c(-25,-10)) + theme(aspect.ratio = 1)"
   ]
  },
  {
   "cell_type": "code",
   "execution_count": null,
   "metadata": {},
   "outputs": [],
   "source": []
  }
 ],
 "metadata": {
  "kernelspec": {
   "display_name": "R",
   "language": "R",
   "name": "ir"
  },
  "language_info": {
   "codemirror_mode": "r",
   "file_extension": ".r",
   "mimetype": "text/x-r-source",
   "name": "R",
   "pygments_lexer": "r",
   "version": "3.5.1"
  }
 },
 "nbformat": 4,
 "nbformat_minor": 2
}
